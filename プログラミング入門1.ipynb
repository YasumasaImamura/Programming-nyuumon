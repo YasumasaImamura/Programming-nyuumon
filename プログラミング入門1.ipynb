{
  "nbformat": 4,
  "nbformat_minor": 0,
  "metadata": {
    "colab": {
      "provenance": [],
      "toc_visible": true,
      "include_colab_link": true
    },
    "kernelspec": {
      "name": "python3",
      "display_name": "Python 3"
    },
    "language_info": {
      "name": "python"
    }
  },
  "cells": [
    {
      "cell_type": "markdown",
      "metadata": {
        "id": "view-in-github",
        "colab_type": "text"
      },
      "source": [
        "<a href=\"https://colab.research.google.com/github/YasumasaImamura/Programming-nyuumon/blob/main/%E3%83%97%E3%83%AD%E3%82%B0%E3%83%A9%E3%83%9F%E3%83%B3%E3%82%B0%E5%85%A5%E9%96%801.ipynb\" target=\"_parent\"><img src=\"https://colab.research.google.com/assets/colab-badge.svg\" alt=\"Open In Colab\"/></a>"
      ]
    },
    {
      "cell_type": "markdown",
      "source": [
        "# 計算してみよう\n",
        "2項演算子(p.34)を使って次の式を計算してみよう。下のコード欄で実行できます。実行するにはコードを入力後、Playボタンをクリックするか、Shift+Enterキーを押してください。\n",
        "\n",
        "① 2 + 3 + 5  \n",
        "\n",
        "\n",
        "\n",
        "\n"
      ],
      "metadata": {
        "id": "5vARdY8ASqdY"
      }
    },
    {
      "cell_type": "code",
      "source": [],
      "metadata": {
        "id": "X8Zk7IbXgpr4"
      },
      "execution_count": null,
      "outputs": []
    },
    {
      "cell_type": "markdown",
      "source": [
        "② 5 $\\times$ 7  "
      ],
      "metadata": {
        "id": "RUYalIABaqVg"
      }
    },
    {
      "cell_type": "code",
      "source": [],
      "metadata": {
        "id": "-USuOzrlgqc3"
      },
      "execution_count": null,
      "outputs": []
    },
    {
      "cell_type": "markdown",
      "source": [
        "③ 45 ÷ 5  "
      ],
      "metadata": {
        "id": "ooTl9K3EawiN"
      }
    },
    {
      "cell_type": "code",
      "source": [],
      "metadata": {
        "id": "ab0kutOGgrGv"
      },
      "execution_count": null,
      "outputs": []
    },
    {
      "cell_type": "markdown",
      "source": [
        "④ 17 $\\div$ 3"
      ],
      "metadata": {
        "id": "eZWOhNl7gte8"
      }
    },
    {
      "cell_type": "code",
      "source": [],
      "metadata": {
        "id": "pzJwy7n3g2bI"
      },
      "execution_count": null,
      "outputs": []
    },
    {
      "cell_type": "markdown",
      "source": [
        "⑤ 17 $\\div$ 6 の小数点を切り捨てた解\n"
      ],
      "metadata": {
        "id": "xkbh4z5Pazoc"
      }
    },
    {
      "cell_type": "code",
      "source": [],
      "metadata": {
        "id": "DKVfrH-aa3-Y"
      },
      "execution_count": null,
      "outputs": []
    },
    {
      "cell_type": "markdown",
      "source": [
        "⑥ 45 ÷ 6 の余り(剰余)"
      ],
      "metadata": {
        "id": "iQBNVofya4jx"
      }
    },
    {
      "cell_type": "code",
      "source": [],
      "metadata": {
        "id": "BfGusmJQa8lq"
      },
      "execution_count": null,
      "outputs": []
    },
    {
      "cell_type": "markdown",
      "source": [
        "⑦ $2^{10}$ (2の10乗)  \n",
        "累乗のための2項演算子は「**」です。"
      ],
      "metadata": {
        "id": "5DJw2hWna6dM"
      }
    },
    {
      "cell_type": "code",
      "source": [],
      "metadata": {
        "id": "x7WYL9bAa94k"
      },
      "execution_count": null,
      "outputs": []
    },
    {
      "cell_type": "markdown",
      "source": [
        "⑧ 45 - 6 $\\times$ 6"
      ],
      "metadata": {
        "id": "gn6Wr3KchXxZ"
      }
    },
    {
      "cell_type": "code",
      "source": [],
      "metadata": {
        "id": "QLOBcVdyiLBR"
      },
      "execution_count": null,
      "outputs": []
    },
    {
      "cell_type": "markdown",
      "source": [
        "⑨ ( 45 -  6 ) $\\times$ 6\n",
        "\n"
      ],
      "metadata": {
        "id": "D9Pknz86iLl3"
      }
    },
    {
      "cell_type": "code",
      "source": [],
      "metadata": {
        "id": "J9DnsnMwi67B"
      },
      "execution_count": null,
      "outputs": []
    },
    {
      "cell_type": "markdown",
      "source": [
        "⑩ 1 + $\\frac{(2+6)^2}{3}$"
      ],
      "metadata": {
        "id": "C_uQcShpi9Az"
      }
    },
    {
      "cell_type": "code",
      "source": [],
      "metadata": {
        "id": "AW9nIyDSqr4F"
      },
      "execution_count": null,
      "outputs": []
    }
  ]
}