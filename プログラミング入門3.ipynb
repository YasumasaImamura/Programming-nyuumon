{
  "nbformat": 4,
  "nbformat_minor": 0,
  "metadata": {
    "colab": {
      "provenance": [],
      "include_colab_link": true
    },
    "kernelspec": {
      "name": "python3",
      "display_name": "Python 3"
    },
    "language_info": {
      "name": "python"
    }
  },
  "cells": [
    {
      "cell_type": "markdown",
      "metadata": {
        "id": "view-in-github",
        "colab_type": "text"
      },
      "source": [
        "<a href=\"https://colab.research.google.com/github/YasumasaImamura/Programming-nyuumon/blob/main/%E3%83%97%E3%83%AD%E3%82%B0%E3%83%A9%E3%83%9F%E3%83%B3%E3%82%B0%E5%85%A5%E9%96%803.ipynb\" target=\"_parent\"><img src=\"https://colab.research.google.com/assets/colab-badge.svg\" alt=\"Open In Colab\"/></a>"
      ]
    },
    {
      "cell_type": "markdown",
      "source": [
        "# 変数を使ってみよう\n",
        "\n",
        "変数は、値を保存するための「器」です。様々な種類のデータを一時的の保存できます。  \n",
        "変数を使用するには、はじめに「宣言」する必要がありますが、Pythonでの変数の宣言は、変数を書いて「 = 」（代入演算子）で値を入れるだけです。  \n",
        "変数名は、半角英数、記号( _ ：アンダースコア)で作ります。ただし数字で始まる名前や、Pythonで使われているキーワードは使用できません。  \n",
        "① 3ban = 123 を実行し、SyntaxErrorが出ることを確認しよう。"
      ],
      "metadata": {
        "id": "FerJawpt9rZu"
      }
    },
    {
      "cell_type": "code",
      "source": [],
      "metadata": {
        "id": "bAQ0x4899qCV"
      },
      "execution_count": null,
      "outputs": []
    },
    {
      "cell_type": "markdown",
      "source": [
        "変数の中身を取り出すことを「参照」と言います。  \n",
        "② a1 = 123を実行し、print関数でa1の中身を参照して表示させよう。"
      ],
      "metadata": {
        "id": "EUsrb14_BOTG"
      }
    },
    {
      "cell_type": "code",
      "source": [],
      "metadata": {
        "id": "llf755b_BmLK"
      },
      "execution_count": null,
      "outputs": []
    },
    {
      "cell_type": "markdown",
      "source": [
        "③ myname = \"（あなたの名前）\" であなたの名前を変数mynameに代入し、print関数で表示させよう。"
      ],
      "metadata": {
        "id": "JIyfqBGyBmy2"
      }
    },
    {
      "cell_type": "code",
      "source": [],
      "metadata": {
        "id": "PV0TC7eBB7WS"
      },
      "execution_count": null,
      "outputs": []
    },
    {
      "cell_type": "markdown",
      "source": [
        "④ 2つの変数に tate = 12, yoko = 18 を代入し、tate × yoko の結果をprint関数で表示させよう。"
      ],
      "metadata": {
        "id": "j_Xt8DlbDWkU"
      }
    },
    {
      "cell_type": "code",
      "source": [],
      "metadata": {
        "id": "4o8tBO5pD-M6"
      },
      "execution_count": null,
      "outputs": []
    },
    {
      "cell_type": "markdown",
      "source": [
        "# 繰り返し実行してみよう：for構文\n",
        "同じ処理を指定した回数だけ繰り返す（ループ処理する）ときによく使われるのが「for文（構文）」です。  \n",
        "書き方はいくつかありますが、はじめに「リスト」を使ったものを学びましょう。  \n",
        "リストとは、値をカンマで区切って[ ]で囲って列挙したものです。変数を指定し（よく使われるのはi,j,kなど）、in キーワードの後ろのリストからひとつずつ取り出していく構文です。forと同じ行の最後にコロンが必要なこと、処理は複数行書けますが、繰り返す処理にはインデント（字下げ）でブロックを作ることに気を付けましょう。\n",
        "> for 変数 in リスト:  \n",
        "> 　　処理  \n",
        "\n",
        "⑤ リスト [ 1,3,5,7,9 ] をfor文を使って表示してみよう。"
      ],
      "metadata": {
        "id": "Rw2rf7rHEWL1"
      }
    },
    {
      "cell_type": "code",
      "source": [],
      "metadata": {
        "id": "lL4mjn4bJbns"
      },
      "execution_count": null,
      "outputs": []
    },
    {
      "cell_type": "markdown",
      "source": [
        "繰り返し処理の回数が多いときには、リストの代わりに「range関数」が使えます。\n",
        "\n",
        "> range(開始する値, 終了する値)  \n",
        "> または  \n",
        "> range(繰り返し回数)\n",
        "\n",
        "これを実行すると、終了する値未満（整数の場合は1小さい値）であることに注意しましょう。100回繰り返したいときには、range(1, 101) と書きます。  \n",
        "\n",
        "⑥ 0から99まで数字を表示してみましょう。"
      ],
      "metadata": {
        "id": "5QUCU1NzJaay"
      }
    },
    {
      "cell_type": "code",
      "source": [],
      "metadata": {
        "id": "mfaJN7RpLiyb"
      },
      "execution_count": null,
      "outputs": []
    },
    {
      "cell_type": "markdown",
      "source": [
        "for文では「シーケンス（順序だてているもの）」を1つずつ取り出すことができます。文字列を1つずつ取り出してみましょう。  \n",
        "⑦ 自分の名前(日本語の全角文字)を1文字ずつ取り出してみましょう。"
      ],
      "metadata": {
        "id": "vEd6WDAmLj4W"
      }
    },
    {
      "cell_type": "code",
      "source": [],
      "metadata": {
        "id": "m1ZgfU2VMIKy"
      },
      "execution_count": null,
      "outputs": []
    }
  ]
}