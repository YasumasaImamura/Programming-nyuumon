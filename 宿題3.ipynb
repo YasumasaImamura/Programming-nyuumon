{
  "nbformat": 4,
  "nbformat_minor": 0,
  "metadata": {
    "colab": {
      "provenance": [],
      "include_colab_link": true
    },
    "kernelspec": {
      "name": "python3",
      "display_name": "Python 3"
    },
    "language_info": {
      "name": "python"
    }
  },
  "cells": [
    {
      "cell_type": "markdown",
      "metadata": {
        "id": "view-in-github",
        "colab_type": "text"
      },
      "source": [
        "<a href=\"https://colab.research.google.com/github/YasumasaImamura/Programming-nyuumon/blob/main/%E5%AE%BF%E9%A1%8C3.ipynb\" target=\"_parent\"><img src=\"https://colab.research.google.com/assets/colab-badge.svg\" alt=\"Open In Colab\"/></a>"
      ]
    },
    {
      "cell_type": "markdown",
      "source": [],
      "metadata": {
        "id": "1CQifnnlILGk"
      }
    },
    {
      "cell_type": "code",
      "execution_count": null,
      "metadata": {
        "id": "EK3m785iIKCj"
      },
      "outputs": [],
      "source": []
    },
    {
      "cell_type": "markdown",
      "source": [
        "# 宿題3\n",
        "\n",
        "以下の設問に答えなさい。  \n",
        "\n",
        "\n",
        "---\n",
        "\n"
      ],
      "metadata": {
        "id": "1NJuU47yIVEc"
      }
    },
    {
      "cell_type": "markdown",
      "source": [
        "問題1  \n",
        "\n",
        "mathモジュールをimportして、2次方程式:$ax^2+bx+c=0$の解を求めなさい。\n",
        "ただし、$a, b, c$ は整数とし、Input関数で入力するものとする。\n",
        "（ヒント解の公式を用いよ。ただし判別式<0の時は「実数解なし」と表示させること。\n",
        "\n",
        "（実行結果例1）  \n",
        "a = 1  \n",
        "b = -4  \n",
        "c = 3  \n",
        "1つ目の解は3.0です  \n",
        "2つ目の解は1.0です  \n",
        "\n",
        "（実行結果例2）  \n",
        "a = 1  \n",
        "b = 2  \n",
        "c = 3  \n",
        "実数解なし  "
      ],
      "metadata": {
        "id": "DFaawIGpIgyF"
      }
    },
    {
      "cell_type": "code",
      "source": [],
      "metadata": {
        "id": "i50h7qmpWKoy"
      },
      "execution_count": 6,
      "outputs": []
    },
    {
      "cell_type": "markdown",
      "source": [
        "問題2  \n",
        "\n",
        "datetimeモジュールをimportして、西暦年、月、日を入力すると曜日を押しててくれるプログラムを作りなさい。なお、入力値（数値）を日付に直すには、  \n",
        "例）day = datetime.date(2023,12,24)  \n",
        "などとすればよく、曜日を求めるにはdatetimeモジュールのweekday関数を用います。  \n",
        "例）day.weekday()  \n",
        "ただしweekday()の返り値は、月曜日:0、火曜日：1…、日曜日:6となっています。これを曜日で表しなさい。  \n",
        "（実行結果例）  \n",
        "西暦は？2023  \n",
        "月は？12  \n",
        "日は？4  \n",
        "月曜日です。  "
      ],
      "metadata": {
        "id": "0oVtGefRJkSG"
      }
    },
    {
      "cell_type": "code",
      "source": [],
      "metadata": {
        "id": "opVusT5TVe--"
      },
      "execution_count": 13,
      "outputs": []
    }
  ]
}