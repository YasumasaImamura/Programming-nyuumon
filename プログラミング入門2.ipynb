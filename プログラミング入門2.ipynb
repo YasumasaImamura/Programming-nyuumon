{
  "nbformat": 4,
  "nbformat_minor": 0,
  "metadata": {
    "colab": {
      "provenance": [],
      "authorship_tag": "ABX9TyPwz4QmtCidZhcgRxgJPQyz",
      "include_colab_link": true
    },
    "kernelspec": {
      "name": "python3",
      "display_name": "Python 3"
    },
    "language_info": {
      "name": "python"
    }
  },
  "cells": [
    {
      "cell_type": "markdown",
      "metadata": {
        "id": "view-in-github",
        "colab_type": "text"
      },
      "source": [
        "<a href=\"https://colab.research.google.com/github/YasumasaImamura/Programming-nyuumon/blob/main/%E3%83%97%E3%83%AD%E3%82%B0%E3%83%A9%E3%83%9F%E3%83%B3%E3%82%B0%E5%85%A5%E9%96%802.ipynb\" target=\"_parent\"><img src=\"https://colab.research.google.com/assets/colab-badge.svg\" alt=\"Open In Colab\"/></a>"
      ]
    },
    {
      "cell_type": "markdown",
      "source": [
        "# 文字列を表示してみよう\n",
        "\n",
        "文字列を表示するには、文字を「\"」ダブルクォーテーションで囲みます。さらに文字や数字などを表示するprint関数（メソッド）を使ってみましょう。  \n",
        "例）prine(\"abc\")  \n",
        "① \"Hello world!\"と表示してみよう。"
      ],
      "metadata": {
        "id": "1Oob01PkrR0Q"
      }
    },
    {
      "cell_type": "code",
      "source": [],
      "metadata": {
        "id": "fbQjU9--rQD8"
      },
      "execution_count": null,
      "outputs": []
    },
    {
      "cell_type": "markdown",
      "source": [
        "「￥」マークを表示したいときには注意が必要です。特殊な文字や命令を入力するときに「￥」マークで始まるエスケープシーケンスが使われることになっているためです。（Macではバックスラッシュ(\\\\)が使われます。\n",
        "\n",
        "| エスケープシーケンス | 意味 |\n",
        "|:--- |:---|\n",
        "| ￥newline | 文字列を途中で改行する|\n",
        "| ￥￥ | 円記号（Macではバックスラッシュ） |\n",
        "|\\' | 一重引用符 (') |\n",
        "|\\\"\t| 二重引用符 (\") |\n",
        "|￥a\t| ASCII 端末ベル (BEL) |\n",
        "|￥b\t| ASCII バックスペース (BS) |\n",
        "|￥f\t| ASCII フォームフィード (FF) |\n",
        "|￥n\t| ASCII 行送り (LF) |\n",
        "|￥r\t| ASCII 復帰 (CR) |\n",
        "|￥t\t| ASCII 水平タブ (TAB) |\n",
        "|￥v\t| ASCII 垂直タブ (VT) |\n",
        "|￥ooo | 8進数oooを持つASCII文字 |\n",
        "|￥xhh | 16進数hhを持つASCII文字 |\n",
        "|￥N{name} | Unicode データベース中で名前 name を持つ文字 |\n",
        "|￥uxxxx | 16ビットの16進数値xxxxを持つUnicode文字 |\n",
        "|￥Uxxxxxxxx | 32ビットの16進数値xxxxxxxxを持つUnicode文字 |\n",
        "\n",
        "②   \"Hello world!\"を、\"Hello\"の後ろで改行してみよう。（ヒント:￥nを使います。）"
      ],
      "metadata": {
        "id": "RKt-vdbQETBG"
      }
    },
    {
      "cell_type": "markdown",
      "source": [
        "長文を表示するために"
      ],
      "metadata": {
        "id": "YIrZ2ATUKu7a"
      }
    },
    {
      "cell_type": "code",
      "source": [],
      "metadata": {
        "id": "uIhKFls2KaQ9"
      },
      "execution_count": null,
      "outputs": []
    }
  ]
}