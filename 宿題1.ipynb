{
  "nbformat": 4,
  "nbformat_minor": 0,
  "metadata": {
    "colab": {
      "provenance": [],
      "authorship_tag": "ABX9TyM18L0hGBCc/bF5y/rDGkEw",
      "include_colab_link": true
    },
    "kernelspec": {
      "name": "python3",
      "display_name": "Python 3"
    },
    "language_info": {
      "name": "python"
    }
  },
  "cells": [
    {
      "cell_type": "markdown",
      "metadata": {
        "id": "view-in-github",
        "colab_type": "text"
      },
      "source": [
        "<a href=\"https://colab.research.google.com/github/YasumasaImamura/Programming-nyuumon/blob/main/%E5%AE%BF%E9%A1%8C1.ipynb\" target=\"_parent\"><img src=\"https://colab.research.google.com/assets/colab-badge.svg\" alt=\"Open In Colab\"/></a>"
      ]
    },
    {
      "cell_type": "markdown",
      "source": [],
      "metadata": {
        "id": "1CQifnnlILGk"
      }
    },
    {
      "cell_type": "code",
      "execution_count": null,
      "metadata": {
        "id": "EK3m785iIKCj"
      },
      "outputs": [],
      "source": []
    },
    {
      "cell_type": "markdown",
      "source": [
        "# 宿題1\n",
        "以下の設問に答えなさい。  \n",
        "\n",
        "\n",
        "---\n",
        "\n"
      ],
      "metadata": {
        "id": "1NJuU47yIVEc"
      }
    },
    {
      "cell_type": "markdown",
      "source": [
        "問題1  \n",
        "花子さんは銀行に1万円預金した。1年ごとに5%の年利が複利でつくとき、預金額が2万円を超えるのは何年後かを求めるプログラムを作りなさい。  \n",
        "※複利とは・・・もともとのお金が100万円あり、年利が2%で1年間預金したとすると、1年後には102万円になる。また1年間預けると利子の2万円も含めた102万円に利子がつくこと。つまり102×1.02 = 104万400円となる（四捨五入）。このように、利子にもまた利子がつくことを、「複利」という。\n"
      ],
      "metadata": {
        "id": "DFaawIGpIgyF"
      }
    },
    {
      "cell_type": "code",
      "source": [],
      "metadata": {
        "id": "ApKHT-xmI8Y3"
      },
      "execution_count": null,
      "outputs": []
    },
    {
      "cell_type": "markdown",
      "source": [
        "問題2  \n",
        "二重ループを使って次のような九九の表を表示するプログラムを作りなさい。ただし区切り文字は「,」（カンマ）とする。  \n",
        "（実行結果）  \n",
        "1,2,3,4,5,6,7,8,9,  \n",
        "2,4,6,8,10,12,14,16,18,  \n",
        "3,6,9,12,15,18,21,24,27,\n",
        "…  \n",
        "9,18,27,36,45,54,63,72,81,  \n"
      ],
      "metadata": {
        "id": "USpsBJ1nI9LP"
      }
    },
    {
      "cell_type": "code",
      "source": [],
      "metadata": {
        "id": "5fuckLBOJjad"
      },
      "execution_count": null,
      "outputs": []
    },
    {
      "cell_type": "markdown",
      "source": [
        "問題3  \n",
        "テストの成績が90点以上なら「秀」、80点以上なら「優」、70点以上なら「良」、60点以上なら「可」、それ未満なら「不可」と表示されるプログラムを作りなさい。ただしテストの成績は、変数「seiseki」に適当な数を入れて正しい結果が出力されるか確認すること。"
      ],
      "metadata": {
        "id": "0oVtGefRJkSG"
      }
    },
    {
      "cell_type": "code",
      "source": [],
      "metadata": {
        "id": "oRA9CRr4KSZ9"
      },
      "execution_count": null,
      "outputs": []
    }
  ]
}