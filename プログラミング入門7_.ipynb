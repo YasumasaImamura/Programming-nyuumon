{
  "nbformat": 4,
  "nbformat_minor": 0,
  "metadata": {
    "colab": {
      "provenance": [],
      "authorship_tag": "ABX9TyOEHI54MvpeT1EejuhNK1QB",
      "include_colab_link": true
    },
    "kernelspec": {
      "name": "python3",
      "display_name": "Python 3"
    },
    "language_info": {
      "name": "python"
    }
  },
  "cells": [
    {
      "cell_type": "markdown",
      "metadata": {
        "id": "view-in-github",
        "colab_type": "text"
      },
      "source": [
        "<a href=\"https://colab.research.google.com/github/YasumasaImamura/Programming-nyuumon/blob/main/%E3%83%97%E3%83%AD%E3%82%B0%E3%83%A9%E3%83%9F%E3%83%B3%E3%82%B0%E5%85%A5%E9%96%807_.ipynb\" target=\"_parent\"><img src=\"https://colab.research.google.com/assets/colab-badge.svg\" alt=\"Open In Colab\"/></a>"
      ]
    },
    {
      "cell_type": "markdown",
      "source": [
        "# 機能を拡張するモジュール\n",
        "\n",
        "---\n",
        "\n",
        "Pythonの機能を拡張するのが「**モジュール**」です。機能がたくさん集まった関数の集まりと考えてください。モジュールにはPythonに付属しているものや、他の作者が作ったのもがあり、別途インストールすることで、さまざまな機能を組み込むことができます。例えばAIを使った計算もモジュールを利用して実行きます。  \n",
        "モジュールの機能を使用するにはモジュールを読み込む操作が必要で、その操作を「**インポート(import)**」といいます。  \n",
        "\n",
        "・モジュールをインポートする  \n",
        "モジュールをインポートするには、ソースコードの文等に**import構文**を書きます。  \n",
        "\n",
        "> import モジュール名\n",
        "\n",
        "例）でたらめな数を発生させるrandomモジュール  \n",
        "\n",
        "import random  \n",
        "a = random.randint(0,9)　　# 0から9までの整数乱数の発生  \n",
        "print(a)  \n",
        "\n",
        "例）数学の基本関数を用いるためのmathモジュール  \n",
        "import math  \n",
        "x = math.sqrt(5)  \n",
        "print(x)  \n",
        "\n",
        "・モジュールの読み込み方法①  \n",
        "**asで別名を指定**してモジュールを読み込むことができます。モジュール名が長いときに便利です。  \n",
        "\n",
        "> import モジュール名 as 変数名  \n",
        "\n",
        "例）  \n",
        "import random as r  \n",
        "a = r.randint(0,9)　　# 0から9までの整数乱数の発生  \n",
        "print(a)  \n",
        "\n",
        "・モジュールの読み込み方法②  \n",
        "**fromでモジュールを、importで関数を読み込む**ことで、モジュール名を書かずに関数を実行できるようにすることができます。取り込んで使用する関数が決まっている場合、コードがシンプルになります。  \n",
        "\n",
        "> from モジュール名 import 関数名\n",
        "\n",
        "例）  \n",
        "from random import randint  \n",
        "a = randint(0,9)　　# 0から9までの整数乱数の発生  \n",
        "print(a)\n"
      ],
      "metadata": {
        "id": "7nDbUWdRrJ3P"
      }
    },
    {
      "cell_type": "markdown",
      "source": [
        "① mathモジュールをmという変数で参照できるように別名を指定して、「5の平方根（sqrt)」を計算して表示させなさい。"
      ],
      "metadata": {
        "id": "37yycVJzrrCE"
      }
    },
    {
      "cell_type": "code",
      "source": [],
      "metadata": {
        "id": "UokONjLFrkHk"
      },
      "execution_count": 7,
      "outputs": []
    },
    {
      "cell_type": "markdown",
      "source": [
        "② fromでmathモジュールを、importでsqrt関数を読み込み、モジュール名を書かずに関数を実行して「8の平方根（sqrt)」を計算して表示させなさい。"
      ],
      "metadata": {
        "id": "Im6yuRPCsILs"
      }
    },
    {
      "cell_type": "code",
      "source": [],
      "metadata": {
        "id": "1WvgwWPxtEtJ"
      },
      "execution_count": null,
      "outputs": []
    },
    {
      "cell_type": "markdown",
      "source": [],
      "metadata": {
        "id": "dOvg432MvAY8"
      }
    },
    {
      "cell_type": "markdown",
      "source": [
        "# 文字入力する\n",
        "\n",
        "文字入力する1つの方法に**input関数**を使う方法があります。テキストボックスが表示されるので、文字を入力後Enterキーを押してください。  \n",
        "\n",
        "例）\n",
        "a = input(\"0～9の数を入力してください>\")  \n",
        "print(str(a) + \"が入力されました。\")\n",
        "\n"
      ],
      "metadata": {
        "id": "TruzuqRwvE_4"
      }
    },
    {
      "cell_type": "markdown",
      "source": [
        "③ 上の例を入力して実行してみよう。"
      ],
      "metadata": {
        "id": "7K9uWsyYvtiv"
      }
    },
    {
      "cell_type": "code",
      "source": [],
      "metadata": {
        "id": "yXehW_-UvrWd"
      },
      "execution_count": null,
      "outputs": []
    },
    {
      "cell_type": "markdown",
      "source": [
        "これで入力ができるようになりましたが、input関数で入力されたもは「**数値**」ではなく「**文字列**」であることに注意しましょう。例えば入力されたものを数値と比較するときには、「**型変換**」が必要になります。整数に型変換するには**int関数**を使います。  \n",
        "\n",
        "> x = int(input(\"数字を入力してください＞\"))"
      ],
      "metadata": {
        "id": "ul9SQN7O4X8E"
      }
    },
    {
      "cell_type": "markdown",
      "source": [
        "④ randomモジュールをインポートし、randint関数で1～5の数を発生させてその数を当てるゲームを作ろう。ただし実行結果は例えば次のようになるようにしよう。（ヒント：判定にはif構文を使おう。randint関数で生成されるのは数値であることに注意。）  \n",
        "（実行結果）  \n",
        "1～5の数を入力してください＞ 3[Enter]  \n",
        "不正解です。  \n",
        "正解は2でした。  \n",
        "\n",
        "\n"
      ],
      "metadata": {
        "id": "8PFM5KSx23Kl"
      }
    },
    {
      "cell_type": "code",
      "source": [],
      "metadata": {
        "id": "gq9S7OY_4Gub"
      },
      "execution_count": null,
      "outputs": []
    }
  ]
}