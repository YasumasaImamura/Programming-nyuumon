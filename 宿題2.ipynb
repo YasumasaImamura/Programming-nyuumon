{
  "nbformat": 4,
  "nbformat_minor": 0,
  "metadata": {
    "colab": {
      "provenance": [],
      "authorship_tag": "ABX9TyPJ+UAMfbZuMoGIcpvvpTOA",
      "include_colab_link": true
    },
    "kernelspec": {
      "name": "python3",
      "display_name": "Python 3"
    },
    "language_info": {
      "name": "python"
    }
  },
  "cells": [
    {
      "cell_type": "markdown",
      "metadata": {
        "id": "view-in-github",
        "colab_type": "text"
      },
      "source": [
        "<a href=\"https://colab.research.google.com/github/YasumasaImamura/Programming-nyuumon/blob/main/%E5%AE%BF%E9%A1%8C2.ipynb\" target=\"_parent\"><img src=\"https://colab.research.google.com/assets/colab-badge.svg\" alt=\"Open In Colab\"/></a>"
      ]
    },
    {
      "cell_type": "markdown",
      "source": [],
      "metadata": {
        "id": "1CQifnnlILGk"
      }
    },
    {
      "cell_type": "code",
      "execution_count": null,
      "metadata": {
        "id": "EK3m785iIKCj"
      },
      "outputs": [],
      "source": []
    },
    {
      "cell_type": "markdown",
      "source": [
        "# 宿題2\n",
        "\n",
        "以下の設問に答えなさい。  \n",
        "\n",
        "\n",
        "---\n",
        "\n"
      ],
      "metadata": {
        "id": "1NJuU47yIVEc"
      }
    },
    {
      "cell_type": "markdown",
      "source": [
        "問題1  \n",
        "\n",
        "二重ループを用いて九九の表を作成しなさい。ただし「区切り文字」はカンマ「,」とし、各段で改行して表示させること。（二重ループとはfor構文の中でfor構文を使うことです。またstr関数やprint関数を使います。自習問題「プログラミング入門5」の二重ループがヒントです。）  \n",
        "\n",
        "（実行結果）  \n",
        "1,2,3,4,5,6,7,8,9,  \n",
        "2,4,6,8,10,12,14,16,18,  \n",
        "・・・  \n",
        "9,18,27,36,45,54,63,72,81,  "
      ],
      "metadata": {
        "id": "DFaawIGpIgyF"
      }
    },
    {
      "cell_type": "code",
      "source": [],
      "metadata": {
        "id": "i50h7qmpWKoy"
      },
      "execution_count": null,
      "outputs": []
    },
    {
      "cell_type": "markdown",
      "source": [
        "問題2  \n",
        "\n",
        "西暦を入力すると「うるう年」かそうでないかを判定するプログラムをつくりなさい。ただしグレゴリオ暦によれば、「うるう年」の決め方には次のルールがある。    \n",
        "①西暦年数が4で割り切れる年は「うるう年」とし1年を366日とする。  \n",
        "②ただし①の年のうち、西暦年数が100で割り切れる年は「うるう年」としないで「平年」とする。  \n",
        "③ただし②の年うち、西暦年数が400では割り切れる年は「うるう年」とし1年を366日とする。  \n",
        "これら以外の年では、（ヒント：input関数、int関数とif構文を使用します。）  \n",
        "（実行結果例）  \n",
        "西暦年数を入力してください＞2000  \n",
        "西暦2000年は、平年です。  "
      ],
      "metadata": {
        "id": "0oVtGefRJkSG"
      }
    },
    {
      "cell_type": "code",
      "source": [],
      "metadata": {
        "id": "opVusT5TVe--"
      },
      "execution_count": null,
      "outputs": []
    }
  ]
}