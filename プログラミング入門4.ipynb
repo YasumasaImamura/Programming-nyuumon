{
  "nbformat": 4,
  "nbformat_minor": 0,
  "metadata": {
    "colab": {
      "provenance": [],
      "authorship_tag": "ABX9TyMwRW4IHbMbj42BpwxlaLDR",
      "include_colab_link": true
    },
    "kernelspec": {
      "name": "python3",
      "display_name": "Python 3"
    },
    "language_info": {
      "name": "python"
    }
  },
  "cells": [
    {
      "cell_type": "markdown",
      "metadata": {
        "id": "view-in-github",
        "colab_type": "text"
      },
      "source": [
        "<a href=\"https://colab.research.google.com/github/YasumasaImamura/Programming-nyuumon/blob/main/%E3%83%97%E3%83%AD%E3%82%B0%E3%83%A9%E3%83%9F%E3%83%B3%E3%82%B0%E5%85%A5%E9%96%804.ipynb\" target=\"_parent\"><img src=\"https://colab.research.google.com/assets/colab-badge.svg\" alt=\"Open In Colab\"/></a>"
      ]
    },
    {
      "cell_type": "markdown",
      "source": [
        "# 繰り返し実行してみよう②：while構文\n",
        "\n",
        "while構文は、指定した条件が成り立っている間、繰り返し実行する構文です。  \n",
        "繰り返し回数が不明の場合によく使います。  \n",
        "\n",
        "> while 条件式 :  \n",
        "> 　　条件が成り立っている場合に実行したい文\n",
        "\n",
        "条件が成り立っていることを「真(True)」、成り立っていないことを「偽(False)」といいます。for構文と同じように、繰り返す文の範囲はインデントで指定します。\n",
        "\n",
        "条件式には「比較演算子」がよく使われます。\n",
        "\n",
        "| 比較演算子 | 例 | 意味 |\n",
        "|:--- |:---|:---|\n",
        "| < | a < b | aはbより小さい |\n",
        "| <= | a <= b | aはb以下 |\n",
        "| == | a == b | aとbは等しい |\n",
        "| >\t| a > b | aはbより大きい |\n",
        "| >= | a >= b | aはb以上 |\n",
        "| != | a != b | aとbは等しくない |\n",
        "\n",
        "例）初めに0が入っている変数totalに1,2,3,...を加えていき、10以下の間繰り返して、50を超えたらtotalの中身を表示するプログラム。  \n",
        "\n",
        "total = 0 #初期値  \n",
        "a = 1 #1,2,3,...と増やしていく変数  \n",
        "while total <= 50:  \n",
        "　　total = total + a  #totalの中身にaを加えて結果をtotalに戻す。  \n",
        "　　a = a + 1  #aの値に1を加えてaに戻す（aの値が1増加す）  \n",
        "print(total)  \n",
        "\n",
        "プログラムで「 a = a + 1 」と書くと、代入演算子「=」よりも加算演算子「+」の方が優先順位が高いため「+」が先に実行され、右辺の変数「a」の中身が取り出されて「1」を加える足し算が行われ、その結果が代入演算子「=」により元の変数「a」に上書きされる。  \n",
        "\n",
        "① 例題で、totalに3ずつ加え、totalが100をはじめて超えたときのtotalを表示しよう。"
      ],
      "metadata": {
        "id": "FerJawpt9rZu"
      }
    },
    {
      "cell_type": "code",
      "source": [],
      "metadata": {
        "id": "bAQ0x4899qCV"
      },
      "execution_count": null,
      "outputs": []
    },
    {
      "cell_type": "markdown",
      "source": [
        "② 初めに100が入っている変数Sから1,2,3,...を引いていき、Sが10以上の間繰り返して、10より小さくなったらSの中身を表示しよう。"
      ],
      "metadata": {
        "id": "EUsrb14_BOTG"
      }
    },
    {
      "cell_type": "code",
      "source": [],
      "metadata": {
        "id": "llf755b_BmLK"
      },
      "execution_count": null,
      "outputs": []
    },
    {
      "cell_type": "markdown",
      "source": [
        "③ 変数 height に「1」が入っている。heightを2倍する計算を繰り返し、377600をはじめて超えるまでに2倍した何回目とheightの値を表示させよう（ヒント:回数を数える変数iを使おう）。  \n",
        "（実行結果）  \n",
        "1回目:2  \n",
        "2回目:4  \n",
        "3回目:8  \n",
        "...  \n",
        "X回目:XXXXXXX  \n"
      ],
      "metadata": {
        "id": "JIyfqBGyBmy2"
      }
    },
    {
      "cell_type": "code",
      "source": [],
      "metadata": {
        "id": "PV0TC7eBB7WS"
      },
      "execution_count": null,
      "outputs": []
    },
    {
      "cell_type": "markdown",
      "source": [
        "・while構文を使ってfor構文と同じ処理を記述できます。  \n",
        "\n",
        "for a in range(0,10):  \n",
        "　　print(a)  \n",
        "\n",
        "と同じ処理をwhile構文で書くと  \n",
        "\n",
        "a = 0 #初期値  \n",
        "while a < 10:  #継続条件  \n",
        "　　print(a)  \n",
        "　　a = a + 1 #値の増減  \n",
        "\n",
        "④ 次のfor構文と同じ処理になるwhile構文を記述しよう。  \n",
        "for a in range(5):  \n",
        "　　print(5 - a)  "
      ],
      "metadata": {
        "id": "j_Xt8DlbDWkU"
      }
    },
    {
      "cell_type": "code",
      "source": [],
      "metadata": {
        "id": "4o8tBO5pD-M6"
      },
      "execution_count": null,
      "outputs": []
    },
    {
      "cell_type": "markdown",
      "source": [
        "・無限ループ （永久ループ）  \n",
        "処理を無限に繰り返したい場合があります。実際に無限に動かしたいわけではなく、特定の条件が現れたときに終了したいときに使います。そのためには条件式にTrueを指定します。\n",
        "\n",
        "> while True:  \n",
        "> 　　処理\n",
        "\n",
        "処理の中に終了条件を書いたり、処理を眺めながら、あるいは待ちながら何か起こったときに処理を強制的に止めたいとき[Ctrl]+[C]キーを押して処理を止めることができます。ただしこれができるのは、IDLEのエディタでプログラムを作成した場合です。\n",
        "Google Colabの場合は、実行ボタ（▶）が停止ボタン（■）になります。こちらも確かめましょう。  \n",
        "⑤ 次の無限ループプログラムを[Ctrl]+[C]キーを押して終了させてみましょう。※IDLEのエディタでプログラムを作成してテストしてみてください。\n",
        "\n",
        "a = 1  \n",
        "while True:  \n",
        "　　print(a)  \n",
        "　　a = a + 1"
      ],
      "metadata": {
        "id": "TRJPIB-W94nW"
      }
    },
    {
      "cell_type": "code",
      "source": [],
      "metadata": {
        "id": "8-KzGryWKqkH"
      },
      "execution_count": null,
      "outputs": []
    },
    {
      "cell_type": "markdown",
      "source": [
        "・繰り返しが終わったときに実行するelse  \n",
        "for構文、while構文で繰り返し処理が終わった後で1回だけ実行したい処理を書くときは、elseを使います。  \n",
        "\n",
        "while else構文\n",
        ">while 条件式:  \n",
        ">　　繰り返す文  \n",
        ">else:  \n",
        ">　　繰り返しが終わったときに実行する文  \n",
        "\n",
        "for else構文  \n",
        ">for 変数名 in シーケンス:  \n",
        ">　　繰り返す文  \n",
        ">else:  \n",
        ">　　繰り返しが終わったときに実行する文  \n",
        "\n",
        "⑥ while構文とfor構文を使って0,1,2,3,4を表示し、終わったらelse内の処理で「終わりました」と表示しよう。（実行結果は2回表示されるように）"
      ],
      "metadata": {
        "id": "keqBtDnDCXvi"
      }
    },
    {
      "cell_type": "code",
      "source": [],
      "metadata": {
        "id": "KCLvcFtgKPm_"
      },
      "execution_count": null,
      "outputs": []
    },
    {
      "cell_type": "markdown",
      "source": [
        "# 条件分岐する①：if構文  \n",
        "値が正のときだけ処理を行うなど、なんらかの条件によって実行する処理を変えたいときに使うのがif構文です。これにより条件分岐はでき、複雑な処理が記述できます。\n",
        "\n",
        "> if 条件式:  \n",
        "> 　　条件が成り立っているときに実行する文  \n",
        "> else:  \n",
        "> 　　条件が成り立っていないときに実行する文   \n",
        "\n",
        "条件分岐もfor構文、while構文同様に、処理する文をインデントして記述します。\n",
        "また条件が成り立っていないときに実行する文が必要なければelse以降を省略できます。\n",
        "\n",
        "> if 条件式:  \n",
        "> 　　条件が成り立っているときに実行する文  \n",
        "\n",
        "例1）  \n",
        "a = 8  \n",
        "if a > =10:  \n",
        "　　print(\"aは10以上です\")  \n",
        "else:  \n",
        "　　print(\"aは10未満です\")  \n",
        "\n",
        "for構文やwhile構文と組み合わせて記述すると複雑な処理が可能です。  \n",
        "例2）  \n",
        "for a in range(1, 10+1):  \n",
        "　　if a % 2  == 1:  \n",
        "　　　　print(\"aは奇数です\")  \n",
        "　　else:  \n",
        "　　　　print(\"aは偶数です\")  \n",
        "⑧ リスト[2,-3,5,7,-2,6,9,-1]をfor構文とif構文を使って前から「正の数です」と「負の数です」と表示するようにしよう。（要素に0はないものとする。）  \n",
        "（実行結果）  \n",
        "正の数です  \n",
        "負の数です  \n",
        "正の数です  \n",
        "正の数です  \n",
        "負の数です  \n",
        "正の数です  \n",
        "正の数です  \n",
        "負の数です  "
      ],
      "metadata": {
        "id": "Rw2rf7rHEWL1"
      }
    },
    {
      "cell_type": "code",
      "source": [],
      "metadata": {
        "id": "SLM2ZyMiGdEZ"
      },
      "execution_count": null,
      "outputs": []
    },
    {
      "cell_type": "markdown",
      "source": [
        "・条件を組み合わせる\n",
        "指定できる条件は複数組み合わせることができます。そのときには「and（かつ）」「or（または）」「not（～でない）」を使います。これらを「論理演算子」といいます。\n",
        "\n",
        "| 論理演算子 | 意味 | 例 | 例の意味 |\n",
        "|:--- |:---|:---|:---|\n",
        "| and | 2つの条件の両方が成り立つとき | (a == 1) and (b == 2) | aが1で、かつ、bが2のとき |\n",
        "| or | 2つの条件のいずれかが成り立つとき | (a == 1) ord (b == 2) | aが1、もしくは、bが2のとき  |\n",
        "| not | 条件の否定 | not(a == 2) | aが2と等しくないとき（a != 2と書くのと同じ) |\n",
        "\n",
        "例1）a = 1、b = 2のとき、aもbも正かどうかを判定するプログラム  \n",
        "a = 1  \n",
        "b = 2  \n",
        "if (a > 0) and (b > 0):  \n",
        "　　print(\"aもbも正の数です\")  \n",
        "else:  \n",
        "　　print(\"aあるいはbが負の数です\")  \n",
        "\n",
        "例2）\n",
        "a = 1  \n",
        "b = -2  \n",
        "if (a > 0) or (b > 0):  \n",
        "　　print(\"aあるいはbが正の数です\")  \n",
        "else:  \n",
        "　　print(\"aもbも負の数です\")  \n"
      ],
      "metadata": {
        "id": "5QUCU1NzJaay"
      }
    },
    {
      "cell_type": "markdown",
      "source": [
        "・「and」を省略する  \n",
        "複数の条件を組み合わせるときに使う「and」ですが、Pythonでは省略が可能です。（他の言語ではまずできません。）  \n",
        "if (a >=1) and (a <=10):  \n",
        "と書くところを、Pythonでは  \n",
        "if 1 <= a <=10:  \n",
        "と書くことが可能です。知識としてだけ知っておきましょう。"
      ],
      "metadata": {
        "id": "DukH4QLpdGuf"
      }
    }
  ]
}