{
  "nbformat": 4,
  "nbformat_minor": 0,
  "metadata": {
    "colab": {
      "provenance": [],
      "authorship_tag": "ABX9TyPecvF7drNOEJn5Ox9InV9R",
      "include_colab_link": true
    },
    "kernelspec": {
      "name": "python3",
      "display_name": "Python 3"
    },
    "language_info": {
      "name": "python"
    }
  },
  "cells": [
    {
      "cell_type": "markdown",
      "metadata": {
        "id": "view-in-github",
        "colab_type": "text"
      },
      "source": [
        "<a href=\"https://colab.research.google.com/github/YasumasaImamura/Programming-nyuumon/blob/main/%E3%83%97%E3%83%AD%E3%82%B0%E3%83%A9%E3%83%9F%E3%83%B3%E3%82%B0%E5%85%A5%E9%96%806_.ipynb\" target=\"_parent\"><img src=\"https://colab.research.google.com/assets/colab-badge.svg\" alt=\"Open In Colab\"/></a>"
      ]
    },
    {
      "cell_type": "markdown",
      "source": [
        "# 関数を使う  \n",
        "\n",
        "---\n",
        "\n",
        "\n",
        "よく使う一連の処理をまとめてすぐに実行できるように名前を付けたものを関数といいます。関数に値を渡すと、その値を加工して結果を返してくれます。関数が値を受け取る時に使用するのが引数（ひきすう）、加工の結果として出てくる値を返り値（返り値がない場合もある。）といいます。返り値はreturn構文を使って関数の呼び出し元に値を返します。なお関数の定義においては、引数も返り値も変数を使って書き、実際に使用するときに具体的な値が入ります。  \n",
        "関数にはあらかじめ用意されているもの(print関数やstr関数など）、外部からインポートして使用するもの（calendar.monthなど）、自分で定義するものなどがあります。  \n",
        "\n",
        "・関数を定義する\n",
        "関数を自分で定義するには、def構文を使用して記述します。  \n",
        "> def 関数名(渡したい値を入れる変数):  \n",
        "> 　　この関数の中で実行したい処理  \n",
        "> 　　return 返り値を返すための変数\n",
        "\n",
        "名前は変数名と同じようにキーワードでないもので、関数の機能が分かりやすいものを付けるのがおすすめです。引数として渡したい値が2つ以上の時は、カンマで区切って変数で書きます。  \n",
        "\n",
        "例）2のn乗を求めるruijyou_2関数  \n",
        "def ruijyou_2( n ):  \n",
        "　　a = 1  \n",
        "　　for i in range(n):  \n",
        "　　　　a = a * 2  \n",
        "　　return a  \n",
        "\n",
        "例）kのn乗を求めるruijyou_k_n  \n",
        "def ruijyou_k_n( k, n ):  \n",
        "　　a = 1  \n",
        "　　for i in range(n):  \n",
        "　　　　a = k * 2  \n",
        "　　return a  \n",
        "\n",
        "・関数の呼び出す  \n",
        "関数を定義したら、実際に使用しましょう。これを関数の呼び出しといいます。  \n",
        "関数の定義を書いたら、そのあとで実際に呼び出して使用します。ここで引数には実際の値が入り、関数が呼び出されて結果が返ってきます。  \n",
        "\n",
        "例）  \n",
        "def ruijyou( k,n ):  \n",
        "　　a = 1  \n",
        "　　for i in range(n):  \n",
        "　　　　a = a * k  \n",
        "　　return a  \n",
        "b = rubjyou(2,5)  \n",
        "print(x)  \n",
        "（実行結果）  \n",
        "32  \n"
      ],
      "metadata": {
        "id": "7nDbUWdRrJ3P"
      }
    },
    {
      "cell_type": "markdown",
      "source": [
        "① 階乗を計算するkaijyou関数を定義しよう。ここでnの階乗とは、n×(n-1)×(n-2)×…×2×1のことである。"
      ],
      "metadata": {
        "id": "N8J7VIH3eM3O"
      }
    },
    {
      "cell_type": "code",
      "source": [],
      "metadata": {
        "id": "KOCZj52U1YWS"
      },
      "execution_count": null,
      "outputs": []
    },
    {
      "cell_type": "markdown",
      "source": [
        "② 「私の名前はXXXXです。年齢はXX才です。」と、名前と年齢を引数に渡すと画面に表示するjikoshoukai関数を定義し（print関数,str関数を使用）、それを使用して自分の名前と年齢を表示してみよう。"
      ],
      "metadata": {
        "id": "eOZz2NPMrITR"
      }
    },
    {
      "cell_type": "code",
      "source": [],
      "metadata": {
        "id": "AnOaTPuKlAkr"
      },
      "execution_count": null,
      "outputs": []
    },
    {
      "cell_type": "markdown",
      "source": [
        "・スコープを理解する  \n",
        "関数を使うとき気を付けたいのは、関数内の変数と関数外の変数は保存場所が違うということです。例えば関数内と関数外で同じ変数aを使うことができますが、このaはコンピュータのメモリ上では別の場所に記憶され、それぞれに異なる値を保持できます。    \n",
        "\n",
        "a = \"ABC\"  \n",
        "\n",
        "def sample(): #引数なしの関数  \n",
        "　　a = \"DEF\"  \n",
        "　　print(\"関数内のa：\" + a)  \n",
        "　　return\n",
        "\n",
        "sample()  \n",
        "print(\"関数外のa：\" + a)  \n",
        "\n",
        "（実行結果）  \n",
        "ABC  \n",
        "DEF"
      ],
      "metadata": {
        "id": "8-2nEr_ZlBTC"
      }
    },
    {
      "cell_type": "markdown",
      "source": [
        "③ 上の例を実行して、２つのaの中身を確認しよう。"
      ],
      "metadata": {
        "id": "v2M5SWGbnekc"
      }
    },
    {
      "cell_type": "code",
      "source": [],
      "metadata": {
        "id": "3jtGCghMuzea"
      },
      "execution_count": null,
      "outputs": []
    },
    {
      "cell_type": "markdown",
      "source": [
        "ちなみにsample関数内で「a = \"DEF\"」として変数を宣言しなければ「ABC」が2回表示されます。これは変数には有効範囲があることを意味しています。これをスコープといい、次のように決められています。  \n",
        "\n",
        "> ① 関数の内部（ローカルスコープ）から、関数の外部（グローバルスコープ）変数を参照することはできる。  \n",
        "> ② ただし関数の内部（ローカルスコープ）から関数の外部（グルーバルスコープ）の変数に値を代入することはできない。そうした場合、ローカルスコープに別の変数が作られる。  \n",
        "\n",
        "・ローカルスコープからグルーバルスコープの変数にアクセスする方法  \n",
        "\n",
        "これを行うためには、関数内部で「global」という修飾子をつけて変数を宣言します。これをグローバル宣言といいます。  \n",
        "\n",
        "例）  \n",
        "a = \"ABC\"  \n",
        "\n",
        "def sample():  \n",
        "　　global a  #グローバル宣言  \n",
        "　　a = \"DEF\"  \n",
        "　　print(\"関数内のa：\" + a)  \n",
        "　　return\n",
        "\n",
        "sample()  \n",
        "print(\"関数外のa：\" + a)  \n",
        "\n",
        "（実行結果）  \n",
        "DEF  \n",
        "DEF"
      ],
      "metadata": {
        "id": "upYr7BPsak53"
      }
    },
    {
      "cell_type": "markdown",
      "source": [
        "④ 上の例を実行して、２つのaの中身を確認しよう。"
      ],
      "metadata": {
        "id": "JM9tIs8QeSAE"
      }
    },
    {
      "cell_type": "code",
      "source": [],
      "metadata": {
        "id": "u7MMhVoeTRGK"
      },
      "execution_count": null,
      "outputs": []
    },
    {
      "cell_type": "markdown",
      "source": [
        "・可変長やオプションの引数  \n",
        "\n",
        "関数にはいろいろのバリエーションが存在しており、特に引数については、その個数やオプションがたくさん存在します。これらは一つ一つ学んだり、マニュアルを調べたりしながら身につけていくしかありません。まずは基本の使い方を学び、必要に応じて便利な使い方を覚えていきましょう。    \n",
        "\n",
        "（1）引数の省略  \n",
        "\n",
        "関数の使い方は少し難しいのですが、ここでは引数を書略できる場合があることを学びます。足し算を行うtasu関数では、次のように引数の数がちがうものを定義できます。\n",
        "\n",
        "例）引数1つ:足し算の一方を10に固定したもの  \n",
        "def tasu(a, b = 10):  \n",
        "　　s = a + b  \n",
        "　　return s  \n",
        "print(tasu(5))  \n",
        "print(tasu(5, 8))  \n",
        "（実行結果）  \n",
        "15  \n",
        "8  \n",
        "\n",
        "この定義のように「引数名=省略された時の値」を引数のデフォルト値に指定しておけば、引数を1つだけ書いても結果が出ます。ただし、このときもtasu(5, 10)と書くことで足し算の結果はきちんと計算できることを確認しておきましょう。\n",
        "\n",
        "\n"
      ],
      "metadata": {
        "id": "LK5rEbFDpmBv"
      }
    },
    {
      "cell_type": "markdown",
      "source": [
        "⑤ 上の例を実行してみよう。"
      ],
      "metadata": {
        "id": "0HtZlYCqulwo"
      }
    },
    {
      "cell_type": "code",
      "source": [],
      "metadata": {
        "id": "yz7lEC0Hur-u"
      },
      "execution_count": null,
      "outputs": []
    },
    {
      "cell_type": "markdown",
      "source": [
        "（２）項目名を付けて指定する  \n",
        "\n",
        "関数に項目名を付けてオプションを指定することができます。Chapter7で使用する既定の関数では、描画の塗りや線の幅などを指定することになりますので、知っておきましょう。このように関数名が同じでも引数の数が異なるものがたくさん存在しています。  \n",
        "\n",
        "例）円を描画する関数のバリエーション  \n",
        "create_oval(X座標①, Y座標②, X座標①, Y座標②)  \n",
        "create_oval(X座標①, Y座標②, X座標①, Y座標②, fill=\"red\")  \n",
        "create_oval(X座標①, Y座標②, X座標①, Y座標②, fill=\"red\", width=2)  \n",
        "\n",
        "このようにして関数に追加情報を与えています。"
      ],
      "metadata": {
        "id": "KWuks62Snss_"
      }
    }
  ]
}